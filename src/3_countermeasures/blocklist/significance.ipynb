{
 "cells": [
  {
   "cell_type": "markdown",
   "metadata": {},
   "source": [
    "# Blocklist Statistical Signifiance\n",
    "\n",
    "This notebook analyzes the DALL-E-2 blocklist experiments to determine the statistical significance probed."
   ]
  },
  {
   "cell_type": "code",
   "execution_count": 5,
   "metadata": {},
   "outputs": [],
   "source": [
    "import sys\n",
    "sys.path.append('../')\n",
    "sys.path.append('../../')\n",
    "\n",
    "from db import *\n",
    "from analysis import *"
   ]
  },
  {
   "cell_type": "markdown",
   "metadata": {},
   "source": [
    "# Data"
   ]
  },
  {
   "cell_type": "code",
   "execution_count": 6,
   "metadata": {},
   "outputs": [
    {
     "name": "stdout",
     "output_type": "stream",
     "text": [
      "50\n"
     ]
    },
    {
     "data": {
      "text/html": [
       "<div>\n",
       "<style scoped>\n",
       "    .dataframe tbody tr th:only-of-type {\n",
       "        vertical-align: middle;\n",
       "    }\n",
       "\n",
       "    .dataframe tbody tr th {\n",
       "        vertical-align: top;\n",
       "    }\n",
       "\n",
       "    .dataframe thead th {\n",
       "        text-align: right;\n",
       "    }\n",
       "</style>\n",
       "<table border=\"1\" class=\"dataframe\">\n",
       "  <thead>\n",
       "    <tr style=\"text-align: right;\">\n",
       "      <th></th>\n",
       "      <th>median_response_time</th>\n",
       "      <th>dataset</th>\n",
       "      <th>prompt</th>\n",
       "    </tr>\n",
       "  </thead>\n",
       "  <tbody>\n",
       "    <tr>\n",
       "      <th>0</th>\n",
       "      <td>0.183459</td>\n",
       "      <td>blocklist</td>\n",
       "      <td>None</td>\n",
       "    </tr>\n",
       "    <tr>\n",
       "      <th>1</th>\n",
       "      <td>0.512995</td>\n",
       "      <td>blocklist_mutate</td>\n",
       "      <td>None</td>\n",
       "    </tr>\n",
       "    <tr>\n",
       "      <th>2</th>\n",
       "      <td>0.184361</td>\n",
       "      <td>blocklist</td>\n",
       "      <td>None</td>\n",
       "    </tr>\n",
       "    <tr>\n",
       "      <th>3</th>\n",
       "      <td>0.523655</td>\n",
       "      <td>blocklist_mutate</td>\n",
       "      <td>None</td>\n",
       "    </tr>\n",
       "    <tr>\n",
       "      <th>4</th>\n",
       "      <td>0.201148</td>\n",
       "      <td>blocklist</td>\n",
       "      <td>None</td>\n",
       "    </tr>\n",
       "  </tbody>\n",
       "</table>\n",
       "</div>"
      ],
      "text/plain": [
       "   median_response_time           dataset prompt\n",
       "0              0.183459         blocklist   None\n",
       "1              0.512995  blocklist_mutate   None\n",
       "2              0.184361         blocklist   None\n",
       "3              0.523655  blocklist_mutate   None\n",
       "4              0.201148         blocklist   None"
      ]
     },
     "execution_count": 6,
     "metadata": {},
     "output_type": "execute_result"
    }
   ],
   "source": [
    "median_response_time = func.percentile_cont(0.5).within_group(\n",
    "    ImageCreationRequest.response_time.asc()\n",
    ").label('median_response_time')\n",
    "\n",
    "data = (\n",
    "    session.query(\n",
    "        median_response_time,\n",
    "        Prompts.dataset,\n",
    "        Prompts.prompt,\n",
    "    ).join(\n",
    "        Prompts, ImageCreationRequest.prompt_id == Prompts.id\n",
    "    ).filter(\n",
    "        or_(\n",
    "            Prompts.dataset == 'blocklist',\n",
    "            Prompts.dataset == 'blocklist_mutate',\n",
    "        )\n",
    "    ).group_by(\n",
    "        ImageCreationRequest.prompt_id, Prompts.dataset, Prompts.prompt\n",
    "    )\n",
    ")\n",
    "df = query_to_df(data)\n",
    "print(len(df))\n",
    "df.head()"
   ]
  },
  {
   "cell_type": "markdown",
   "metadata": {},
   "source": [
    "# Statistical Test"
   ]
  },
  {
   "cell_type": "code",
   "execution_count": 7,
   "metadata": {},
   "outputs": [
    {
     "name": "stdout",
     "output_type": "stream",
     "text": [
      "t_stat_one_tailed=np.float64(-8.314856714177656)\n",
      "p_value_one_tailed=np.float64(1.5095244491319058e-08)\n",
      "(p_value_one_tailed < 0.0001)=np.True_\n"
     ]
    }
   ],
   "source": [
    "from scipy.stats import ttest_ind\n",
    "\n",
    "blocklist = df[df['dataset'] == 'blocklist']['median_response_time']\n",
    "blocklist_mutate = df[df['dataset'] == 'blocklist_mutate']['median_response_time']\n",
    "\n",
    "# Perform a one-tailed t-test (e.g., testing if blocklist_mutate has higher response times than blocklist)\n",
    "t_stat_one_tailed, p_value_one_tailed = ttest_ind(blocklist, blocklist_mutate, equal_var=False, alternative='two-sided')\n",
    "\n",
    "# p < 0.01\n",
    "print(f'{t_stat_one_tailed=}')\n",
    "print(f'{p_value_one_tailed=}')\n",
    "print(f'{(p_value_one_tailed < 0.0001)=}')\n"
   ]
  },
  {
   "cell_type": "markdown",
   "metadata": {},
   "source": [
    "# Graph"
   ]
  },
  {
   "cell_type": "code",
   "execution_count": 8,
   "metadata": {},
   "outputs": [
    {
     "data": {
      "image/png": "[encoded data removed]",
      "text/plain": [
       "<Figure size 500x300 with 1 Axes>"
      ]
     },
     "metadata": {},
     "output_type": "display_data"
    }
   ],
   "source": [
    "blocklist = df[df['dataset'] == 'blocklist']\n",
    "blocklist_mutate = df[df['dataset'] == 'blocklist_mutate']\n",
    "\n",
    "# fig, ax = plt.subplots()\n",
    "fig, ax = plt.subplots(figsize=(5, 3))\n",
    "\n",
    "plt_range = (0, df['median_response_time'].max() *1.25)\n",
    "\n",
    "ax.hist(blocklist['median_response_time'], range=plt_range, color=palette[0], label=\"Original Word\", bins=30)\n",
    "ax.hist(blocklist_mutate['median_response_time'], range=plt_range, color=palette[1], label=\"Mutated Words\", bins=30)\n",
    "\n",
    "ax.legend()\n",
    "\n",
    "ax.set_ylabel('Frequency')\n",
    "ax.set_xlabel('Median Response Time (s)')\n",
    "\n",
    "# plt.savefig('figures/dalle_2_blocklist.pdf', bbox_inches='tight')\n",
    "plt.show()"
   ]
  }
 ],
 "metadata": {
  "kernelspec": {
   "display_name": "venv",
   "language": "python",
   "name": "python3"
  },
  "language_info": {
   "codemirror_mode": {
    "name": "ipython",
    "version": 3
   },
   "file_extension": ".py",
   "mimetype": "text/x-python",
   "name": "python",
   "nbconvert_exporter": "python",
   "pygments_lexer": "ipython3",
   "version": "3.12.2"
  }
 },
 "nbformat": 4,
 "nbformat_minor": 2
}
