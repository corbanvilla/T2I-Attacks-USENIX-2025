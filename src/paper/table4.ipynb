{
 "cells": [
  {
   "cell_type": "markdown",
   "metadata": {},
   "source": [
    "# Table 4"
   ]
  },
  {
   "cell_type": "code",
   "execution_count": 1,
   "metadata": {},
   "outputs": [],
   "source": [
    "import sys\n",
    "sys.path.append('..')\n",
    "\n",
    "from db import *\n",
    "from analysis import *"
   ]
  },
  {
   "cell_type": "markdown",
   "metadata": {},
   "source": [
    "### DALL-E-2"
   ]
  },
  {
   "cell_type": "markdown",
   "metadata": {},
   "source": [
    "---\n",
    "\n",
    "**Query:** Prompt == \"Accepted\" && Moderation == \"Flagged\"\n",
    "\n",
    "---"
   ]
  },
  {
   "cell_type": "code",
   "execution_count": 2,
   "metadata": {},
   "outputs": [
    {
     "data": {
      "text/plain": [
       "1"
      ]
     },
     "execution_count": 2,
     "metadata": {},
     "output_type": "execute_result"
    }
   ],
   "source": [
    "# Retrieve cases where prompt IS rejected, but NOT flagged.\n",
    "data = (\n",
    "    session.query(\n",
    "        ImageCreationRequest.response_time,\n",
    "    )\n",
    "    .join(\n",
    "        TranslatedPrompts,\n",
    "        ImageCreationRequest.translated_prompt_id == TranslatedPrompts.id,\n",
    "    )\n",
    "    .join(\n",
    "        ModerationRequest,\n",
    "        TranslatedPrompts.prompt_translation_hash == ModerationRequest.prompt_hash,\n",
    "    )\n",
    "    .filter(\n",
    "        ImageCreationRequest.success == True,\n",
    "        ModerationRequest.flagged == True,\n",
    "        ImageCreationRequest.model == 'dalle-2',\n",
    "    )\n",
    ")\n",
    "df = query_to_df(data)\n",
    "len(df)"
   ]
  },
  {
   "cell_type": "markdown",
   "metadata": {},
   "source": [
    "---\n",
    "\n",
    "**Query:** Prompt == \"Accepted\" && Moderation == \"Not Flagged\"\n",
    "\n",
    "---"
   ]
  },
  {
   "cell_type": "code",
   "execution_count": 3,
   "metadata": {},
   "outputs": [
    {
     "data": {
      "text/plain": [
       "57"
      ]
     },
     "execution_count": 3,
     "metadata": {},
     "output_type": "execute_result"
    }
   ],
   "source": [
    "# Retrieve cases where prompt IS rejected, but NOT flagged.\n",
    "data = (\n",
    "    session.query(\n",
    "        ImageCreationRequest.response_time,\n",
    "    )\n",
    "    .join(\n",
    "        TranslatedPrompts,\n",
    "        ImageCreationRequest.translated_prompt_id == TranslatedPrompts.id,\n",
    "    )\n",
    "    .join(\n",
    "        ModerationRequest,\n",
    "        TranslatedPrompts.prompt_translation_hash == ModerationRequest.prompt_hash,\n",
    "    )\n",
    "    .filter(\n",
    "        ImageCreationRequest.success == True,\n",
    "        ModerationRequest.flagged == False,\n",
    "        ImageCreationRequest.model == 'dalle-2',\n",
    "    )\n",
    ")\n",
    "df = query_to_df(data)\n",
    "len(df)"
   ]
  },
  {
   "cell_type": "markdown",
   "metadata": {},
   "source": [
    "---\n",
    "\n",
    "**Query:** Prompt == \"Rejected\" && Moderation == \"Flagged\"\n",
    "\n",
    "---"
   ]
  },
  {
   "cell_type": "code",
   "execution_count": 4,
   "metadata": {},
   "outputs": [
    {
     "data": {
      "text/plain": [
       "14"
      ]
     },
     "execution_count": 4,
     "metadata": {},
     "output_type": "execute_result"
    }
   ],
   "source": [
    "# Retrieve cases where prompt IS rejected, but NOT flagged.\n",
    "data = (\n",
    "    session.query(\n",
    "        ImageCreationRequest.response_time,\n",
    "    )\n",
    "    .join(\n",
    "        TranslatedPrompts,\n",
    "        ImageCreationRequest.translated_prompt_id == TranslatedPrompts.id,\n",
    "    )\n",
    "    .join(\n",
    "        ModerationRequest,\n",
    "        TranslatedPrompts.prompt_translation_hash == ModerationRequest.prompt_hash,\n",
    "    )\n",
    "    .filter(\n",
    "        ImageCreationRequest.success == False,\n",
    "        ModerationRequest.flagged == True,\n",
    "        ImageCreationRequest.model == 'dalle-2',\n",
    "    )\n",
    ")\n",
    "df = query_to_df(data)\n",
    "len(df)"
   ]
  },
  {
   "cell_type": "markdown",
   "metadata": {},
   "source": [
    "---\n",
    "\n",
    "**Query:** Prompt == \"Rejected\" && Moderation == \"Not Flagged\"\n",
    "\n",
    "---"
   ]
  },
  {
   "cell_type": "code",
   "execution_count": 7,
   "metadata": {},
   "outputs": [
    {
     "data": {
      "text/plain": [
       "12"
      ]
     },
     "execution_count": 7,
     "metadata": {},
     "output_type": "execute_result"
    }
   ],
   "source": [
    "# Retrieve cases where prompt IS rejected, but NOT flagged. \n",
    "data = (\n",
    "    session.query(\n",
    "        ImageCreationRequest,\n",
    "    )\n",
    "    .join(\n",
    "        TranslatedPrompts, ImageCreationRequest.translated_prompt_id == TranslatedPrompts.id\n",
    "    )\n",
    "    .join(\n",
    "        ModerationRequest, TranslatedPrompts.prompt_translation_hash == ModerationRequest.prompt_hash,\n",
    "    )\n",
    "    .filter(\n",
    "        ImageCreationRequest.success == False,\n",
    "        ModerationRequest.flagged == False,\n",
    "        ImageCreationRequest.model == 'dalle-2',\n",
    "    )\n",
    ")\n",
    "df = query_to_df(data)\n",
    "len(df)"
   ]
  },
  {
   "cell_type": "markdown",
   "metadata": {},
   "source": [
    "### DALL-E-3"
   ]
  },
  {
   "cell_type": "markdown",
   "metadata": {},
   "source": [
    "---\n",
    "\n",
    "**Query:** Prompt == \"Accepted\" && Moderation == \"Flagged\"\n",
    "\n",
    "---"
   ]
  },
  {
   "cell_type": "code",
   "execution_count": 8,
   "metadata": {},
   "outputs": [
    {
     "data": {
      "text/plain": [
       "19"
      ]
     },
     "execution_count": 8,
     "metadata": {},
     "output_type": "execute_result"
    }
   ],
   "source": [
    "# Retrieve cases where prompt IS rejected, but NOT flagged.\n",
    "data = (\n",
    "    session.query(\n",
    "        ImageCreationRequest.response_time,\n",
    "    )\n",
    "    .join(\n",
    "        TranslatedPrompts,\n",
    "        ImageCreationRequest.translated_prompt_id == TranslatedPrompts.id,\n",
    "    )\n",
    "    .join(\n",
    "        ModerationRequest,\n",
    "        TranslatedPrompts.prompt_translation_hash == ModerationRequest.prompt_hash,\n",
    "    )\n",
    "    .filter(\n",
    "        ImageCreationRequest.success == True,\n",
    "        ModerationRequest.flagged == True,\n",
    "        ImageCreationRequest.model == 'dalle-3',\n",
    "    )\n",
    ")\n",
    "df = query_to_df(data)\n",
    "len(df)"
   ]
  },
  {
   "cell_type": "markdown",
   "metadata": {},
   "source": [
    "---\n",
    "\n",
    "**Query:** Prompt == \"Accepted\" && Moderation == \"Not Flagged\"\n",
    "\n",
    "---"
   ]
  },
  {
   "cell_type": "code",
   "execution_count": 9,
   "metadata": {},
   "outputs": [
    {
     "data": {
      "text/plain": [
       "1731"
      ]
     },
     "execution_count": 9,
     "metadata": {},
     "output_type": "execute_result"
    }
   ],
   "source": [
    "# Retrieve cases where prompt IS rejected, but NOT flagged.\n",
    "data = (\n",
    "    session.query(\n",
    "        ImageCreationRequest.response_time,\n",
    "    )\n",
    "    .join(\n",
    "        TranslatedPrompts,\n",
    "        ImageCreationRequest.translated_prompt_id == TranslatedPrompts.id,\n",
    "    )\n",
    "    .join(\n",
    "        ModerationRequest,\n",
    "        TranslatedPrompts.prompt_translation_hash == ModerationRequest.prompt_hash,\n",
    "    )\n",
    "    .filter(\n",
    "        ImageCreationRequest.success == True,\n",
    "        ModerationRequest.flagged == False,\n",
    "        ImageCreationRequest.model == 'dalle-3',\n",
    "    )\n",
    ")\n",
    "df = query_to_df(data)\n",
    "len(df)"
   ]
  },
  {
   "cell_type": "markdown",
   "metadata": {},
   "source": [
    "---\n",
    "\n",
    "**Query:** Prompt == \"Rejected\" && Moderation == \"Flagged\"\n",
    "\n",
    "---"
   ]
  },
  {
   "cell_type": "code",
   "execution_count": 10,
   "metadata": {},
   "outputs": [
    {
     "data": {
      "text/plain": [
       "344"
      ]
     },
     "execution_count": 10,
     "metadata": {},
     "output_type": "execute_result"
    }
   ],
   "source": [
    "# Retrieve cases where prompt IS rejected, but NOT flagged.\n",
    "data = (\n",
    "    session.query(\n",
    "        ImageCreationRequest.response_time,\n",
    "    )\n",
    "    .join(\n",
    "        TranslatedPrompts,\n",
    "        ImageCreationRequest.translated_prompt_id == TranslatedPrompts.id,\n",
    "    )\n",
    "    .join(\n",
    "        ModerationRequest,\n",
    "        TranslatedPrompts.prompt_translation_hash == ModerationRequest.prompt_hash,\n",
    "    )\n",
    "    .filter(\n",
    "        ImageCreationRequest.success == False,\n",
    "        ModerationRequest.flagged == True,\n",
    "        ImageCreationRequest.model == 'dalle-3',\n",
    "    )\n",
    ")\n",
    "df = query_to_df(data)\n",
    "len(df)"
   ]
  },
  {
   "cell_type": "markdown",
   "metadata": {},
   "source": [
    "---\n",
    "\n",
    "**Query:** Prompt == \"Rejected\" && Moderation == \"Not Flagged\"\n",
    "\n",
    "---"
   ]
  },
  {
   "cell_type": "code",
   "execution_count": 12,
   "metadata": {},
   "outputs": [
    {
     "data": {
      "text/plain": [
       "1308"
      ]
     },
     "execution_count": 12,
     "metadata": {},
     "output_type": "execute_result"
    }
   ],
   "source": [
    "# Retrieve cases where prompt IS rejected, but NOT flagged. \n",
    "data = (\n",
    "    session.query(\n",
    "        ImageCreationRequest,\n",
    "    )\n",
    "    .join(\n",
    "        TranslatedPrompts, ImageCreationRequest.translated_prompt_id == TranslatedPrompts.id\n",
    "    )\n",
    "    .join(\n",
    "        ModerationRequest, TranslatedPrompts.prompt_translation_hash == ModerationRequest.prompt_hash,\n",
    "    )\n",
    "    .filter(\n",
    "        ImageCreationRequest.success == False,\n",
    "        ModerationRequest.flagged == False,\n",
    "        ImageCreationRequest.model == 'dalle-3',\n",
    "    )\n",
    ")\n",
    "df = query_to_df(data)\n",
    "len(df)"
   ]
  },
  {
   "cell_type": "markdown",
   "metadata": {},
   "source": [
    "### DALL-E-3 Revised Prompts"
   ]
  },
  {
   "cell_type": "markdown",
   "metadata": {},
   "source": [
    "---\n",
    "\n",
    "**Query:** Prompt == \"Accepted\" && Moderation == \"Flagged\"\n",
    "\n",
    "---"
   ]
  },
  {
   "cell_type": "code",
   "execution_count": 13,
   "metadata": {},
   "outputs": [
    {
     "data": {
      "text/plain": [
       "11"
      ]
     },
     "execution_count": 13,
     "metadata": {},
     "output_type": "execute_result"
    }
   ],
   "source": [
    "# Retrieve cases where prompt IS Accepted and Flagged, but NOT flagged. \n",
    "data = (\n",
    "    session.query(\n",
    "        ImageCreationRequest.id,\n",
    "    )\n",
    "    .join(\n",
    "        ModerationRequest, ImageCreationRequest.revised_prompt_hash == ModerationRequest.prompt_hash\n",
    "    )\n",
    "    .filter(\n",
    "        ImageCreationRequest.model == 'dalle-3',\n",
    "        ImageCreationRequest.success == True,\n",
    "        ModerationRequest.flagged == True,\n",
    "     )\n",
    ")\n",
    "df = query_to_df(data)\n",
    "len(df)"
   ]
  },
  {
   "cell_type": "markdown",
   "metadata": {},
   "source": [
    "---\n",
    "\n",
    "**Query:** Prompt == \"Accepted\" && Moderation == \"Not Flagged\"\n",
    "\n",
    "---"
   ]
  },
  {
   "cell_type": "code",
   "execution_count": 14,
   "metadata": {},
   "outputs": [
    {
     "data": {
      "text/plain": [
       "1739"
      ]
     },
     "execution_count": 14,
     "metadata": {},
     "output_type": "execute_result"
    }
   ],
   "source": [
    "# Retrieve cases where prompt IS rejected, but NOT flagged. \n",
    "data = (\n",
    "    session.query(\n",
    "        ImageCreationRequest.id,\n",
    "    )\n",
    "    .join(\n",
    "        ModerationRequest, ImageCreationRequest.revised_prompt_hash == ModerationRequest.prompt_hash\n",
    "    )\n",
    "    .filter(\n",
    "        ImageCreationRequest.model == 'dalle-3',\n",
    "        ImageCreationRequest.success == True,\n",
    "        ModerationRequest.flagged == False,\n",
    "    )\n",
    ")\n",
    "df = query_to_df(data)\n",
    "len(df)"
   ]
  }
 ],
 "metadata": {
  "kernelspec": {
   "display_name": "venv",
   "language": "python",
   "name": "python3"
  },
  "language_info": {
   "codemirror_mode": {
    "name": "ipython",
    "version": 3
   },
   "file_extension": ".py",
   "mimetype": "text/x-python",
   "name": "python",
   "nbconvert_exporter": "python",
   "pygments_lexer": "ipython3",
   "version": "3.12.2"
  }
 },
 "nbformat": 4,
 "nbformat_minor": 2
}
