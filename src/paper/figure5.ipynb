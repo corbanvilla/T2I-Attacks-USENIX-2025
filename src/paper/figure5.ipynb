{
 "cells": [
  {
   "cell_type": "markdown",
   "metadata": {},
   "source": [
    "# Figure 5"
   ]
  },
  {
   "cell_type": "code",
   "execution_count": 2,
   "metadata": {},
   "outputs": [],
   "source": [
    "import sys\n",
    "sys.path.append('..')\n",
    "sys.path.append('../graybox')\n",
    "\n",
    "from db import *\n",
    "from analysis import *\n",
    "from information_theory import find_best_split, remove_outliers_iqr"
   ]
  },
  {
   "cell_type": "code",
   "execution_count": 3,
   "metadata": {},
   "outputs": [
    {
     "name": "stdout",
     "output_type": "stream",
     "text": [
      "Removed 1 outliers from column 'total_time'\n",
      "Removed 2 outliers from column 'total_time'\n"
     ]
    },
    {
     "name": "stderr",
     "output_type": "stream",
     "text": [
      "/tmp/ipykernel_1238793/2635247644.py:13: UserWarning: Boolean Series key will be reindexed to match DataFrame index.\n",
      "  df\n",
      "/tmp/ipykernel_1238793/2635247644.py:20: UserWarning: Boolean Series key will be reindexed to match DataFrame index.\n",
      "  df\n",
      "/tmp/ipykernel_1238793/2635247644.py:27: UserWarning: Boolean Series key will be reindexed to match DataFrame index.\n",
      "  df\n"
     ]
    }
   ],
   "source": [
    "df = (\n",
    "    pd.read_csv('../../datasets/graybox/graybox_attack_stats.csv')\n",
    ")\n",
    "\n",
    "stats = [\n",
    "    \"dalle_tool_time\",\n",
    "    \"total_time\",\n",
    "]\n",
    "stat = stats[1]\n",
    "model = \"gpt-4o\"\n",
    "\n",
    "rate_limit = (\n",
    "    df\n",
    "    [df[\"response_type\"] == \"dalle-rate-limit\"]\n",
    "    [df[\"model_slug\"] == model]\n",
    "    # .pipe(remove_outliers_iqr, stat)\n",
    "    [stat]\n",
    ")\n",
    "issues = (\n",
    "    df\n",
    "    [df[\"response_type\"] == \"dalle-issue\"]\n",
    "    [df[\"model_slug\"] == model]\n",
    "    .pipe(remove_outliers_iqr, stat)\n",
    "    [stat]\n",
    ")\n",
    "policy = (\n",
    "    df\n",
    "    [df[\"response_type\"] == \"dalle-content-policy\"]\n",
    "    [df[\"model_slug\"] == model]\n",
    "    .pipe(remove_outliers_iqr, stat)\n",
    "    [stat]\n",
    ")"
   ]
  },
  {
   "cell_type": "code",
   "execution_count": 4,
   "metadata": {},
   "outputs": [
    {
     "name": "stdout",
     "output_type": "stream",
     "text": [
      "Using optimal split: 6.1202170848846436 (information_gain = 0.17372640338854772)\n"
     ]
    },
    {
     "data": {
      "image/png": "[encoded data removed]",
      "text/plain": [
       "<Figure size 500x300 with 1 Axes>"
      ]
     },
     "metadata": {},
     "output_type": "display_data"
    }
   ],
   "source": [
    "X = np.array(\n",
    "    [[i] for i in list(df[\"prompt_revision_time\"])]\n",
    "    + [[i] for i in list(df[\"total_time\"])]\n",
    ")\n",
    "Y = np.array(\n",
    "    [\"revising\" for _ in range(len(df[\"prompt_revision_time\"]))]\n",
    "    + [\"dalle\" for _ in range(len(df[\"total_time\"]))]\n",
    ")\n",
    "best_feature, best_value, best_gain = find_best_split(X, Y)\n",
    "print(f\"Using optimal split: {best_value} (information_gain = {best_gain})\")\n",
    "\n",
    "fig, ax = plt.subplots(figsize=(5,3))\n",
    "\n",
    "fixed_range = (0, 15)\n",
    "ax.hist(issues, bins=30, label=\"Dalle Issue\", color=palette[0], range=fixed_range)\n",
    "ax.hist(policy, bins=30, label=\"Content Policy\", color=palette[1], range=fixed_range)\n",
    "ax.hist(rate_limit, bins=30, label=\"Rate Limit\", color=palette[3], range=fixed_range)\n",
    "ax.axvline(x=4.8, color=palette[2], linestyle=\"--\", linewidth=2)\n",
    "\n",
    "ax.set_xlabel(\"Time (s)\")\n",
    "ax.set_ylabel(\"Frequency\")\n",
    "\n",
    "ax.legend()\n",
    "\n",
    "plt.show()"
   ]
  }
 ],
 "metadata": {
  "kernelspec": {
   "display_name": "venv",
   "language": "python",
   "name": "python3"
  },
  "language_info": {
   "codemirror_mode": {
    "name": "ipython",
    "version": 3
   },
   "file_extension": ".py",
   "mimetype": "text/x-python",
   "name": "python",
   "nbconvert_exporter": "python",
   "pygments_lexer": "ipython3",
   "version": "3.12.2"
  }
 },
 "nbformat": 4,
 "nbformat_minor": 2
}
