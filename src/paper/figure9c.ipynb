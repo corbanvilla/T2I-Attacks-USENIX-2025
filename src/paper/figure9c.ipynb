{
 "cells": [
  {
   "cell_type": "markdown",
   "metadata": {},
   "source": [
    "# Statistical Distribution Modelling: DALL-E-3/ChatGPT"
   ]
  },
  {
   "cell_type": "code",
   "execution_count": 1,
   "metadata": {},
   "outputs": [],
   "source": [
    "import sys\n",
    "sys.path.append('../')\n",
    "\n",
    "from db import *\n",
    "from analysis import *"
   ]
  },
  {
   "cell_type": "code",
   "execution_count": 3,
   "metadata": {},
   "outputs": [
    {
     "name": "stdout",
     "output_type": "stream",
     "text": [
      "378\n"
     ]
    }
   ],
   "source": [
    "df = (\n",
    "    pd.read_csv(\"../../datasets/graybox/graybox_baseline_stats.csv\")\n",
    "    .query('response_type == \"success\"')\n",
    "    .query('model_slug == \"gpt-4o\"')\n",
    "    [[\"total_time\"]]\n",
    ")\n",
    "print(len(df))"
   ]
  },
  {
   "cell_type": "markdown",
   "metadata": {},
   "source": [
    "# Plot"
   ]
  },
  {
   "cell_type": "code",
   "execution_count": 4,
   "metadata": {},
   "outputs": [
    {
     "name": "stdout",
     "output_type": "stream",
     "text": [
      "ks_stat=array([0.06211937]), p_value=array([0.10367526])\n"
     ]
    },
    {
     "data": {
      "text/plain": [
       "[<matplotlib.lines.Line2D at 0x785e94b2e3f0>]"
      ]
     },
     "execution_count": 4,
     "metadata": {},
     "output_type": "execute_result"
    },
    {
     "data": {
      "image/png": "[encoded data removed]",
      "text/plain": [
       "<Figure size 300x200 with 1 Axes>"
      ]
     },
     "metadata": {},
     "output_type": "display_data"
    }
   ],
   "source": [
    "import scipy.stats as stats\n",
    "import numpy as np\n",
    "\n",
    "# sns.set_theme(context=\"paper\", font='Times New Roman', font_scale=1.5, style='white')\n",
    "\n",
    "response_time = df\n",
    "# Generate a range of values for plotting the distributions\n",
    "x = np.linspace(response_time.min(), response_time.max(), 1000)\n",
    "\n",
    "# fit params\n",
    "gamma_params = stats.gamma.fit(response_time)\n",
    "\n",
    "# test fit\n",
    "ks_stat, p_value = stats.kstest(response_time, 'gamma', gamma_params)\n",
    "print(f'{ks_stat=}, {p_value=}')\n",
    "\n",
    "# Log-Normal distribution\n",
    "gamma_pdf = stats.gamma.pdf(x, *gamma_params)\n",
    "\n",
    "# print(gamma_params)\n",
    "sample_data = stats.gamma(*gamma_params).rvs(size=100000)\n",
    "\n",
    "response_time = response_time.to_numpy().ravel()\n",
    "# # ks_stat, p_value = stats.ks_2samp(sample_data, response_time)\n",
    "# print(f'{ks_stat=}, {p_value=}')\n",
    "\n",
    "# pd.Series(sample_data).plot.hist()\n",
    "# pd.Series(response_time).plot.hist()\n",
    "\n",
    "\n",
    "df.plot.hist(bins=30, figsize=(3,2), density=True, legend=False)\n",
    "plt.xlabel(\"Response Time (s)\")\n",
    "plt.ylabel(\"Density\")\n",
    "# plt.legend([\"Response Time\"])\n",
    "plt.tight_layout()\n",
    "\n",
    "# Overlay the fitted Log-Normal distribution\n",
    "plt.plot(x, gamma_pdf, label='Log-Normal Distribution (fitted)', lw=3)"
   ]
  }
 ],
 "metadata": {
  "kernelspec": {
   "display_name": "venv",
   "language": "python",
   "name": "python3"
  },
  "language_info": {
   "codemirror_mode": {
    "name": "ipython",
    "version": 3
   },
   "file_extension": ".py",
   "mimetype": "text/x-python",
   "name": "python",
   "nbconvert_exporter": "python",
   "pygments_lexer": "ipython3",
   "version": "3.12.2"
  }
 },
 "nbformat": 4,
 "nbformat_minor": 2
}
