{
 "cells": [
  {
   "cell_type": "markdown",
   "metadata": {},
   "source": [
    "# Statistical Distribution Modelling: DALL-E-3/API"
   ]
  },
  {
   "cell_type": "code",
   "execution_count": 1,
   "metadata": {},
   "outputs": [],
   "source": [
    "import sys\n",
    "sys.path.append('../')\n",
    "\n",
    "from db import *\n",
    "from analysis import *"
   ]
  },
  {
   "cell_type": "code",
   "execution_count": 3,
   "metadata": {},
   "outputs": [
    {
     "name": "stdout",
     "output_type": "stream",
     "text": [
      "581\n"
     ]
    }
   ],
   "source": [
    "data = (\n",
    "    session.query(\n",
    "        # ImageCreationRequest\n",
    "        ImageCreationRequest.response_time,\n",
    "    ).join(\n",
    "        Images,\n",
    "        Images.id == ImageCreationRequest.image_id,\n",
    "    ).filter(\n",
    "        ImageCreationRequest.model == 'dalle-3',\n",
    "        ImageCreationRequest.success == True,\n",
    "        ImageCreationRequest.timing_valid == True,\n",
    "        Images.from_b64 == True,\n",
    "    )\n",
    ")\n",
    "df = query_to_df(data)\n",
    "print(len(df))"
   ]
  },
  {
   "cell_type": "markdown",
   "metadata": {},
   "source": [
    "# Plot"
   ]
  },
  {
   "cell_type": "code",
   "execution_count": null,
   "metadata": {},
   "outputs": [
    {
     "name": "stdout",
     "output_type": "stream",
     "text": [
      "ks_stat=array([0.0446872]), p_value=array([0.1904992])\n"
     ]
    },
    {
     "data": {
      "text/plain": [
       "[<matplotlib.lines.Line2D at 0x73dfa0f4b740>]"
      ]
     },
     "execution_count": 4,
     "metadata": {},
     "output_type": "execute_result"
    },
    {
     "data": {
      "image/png": "[encoded data removed]",
      "text/plain": [
       "<Figure size 300x200 with 1 Axes>"
      ]
     },
     "metadata": {},
     "output_type": "display_data"
    }
   ],
   "source": [
    "import scipy.stats as stats\n",
    "import numpy as np\n",
    "\n",
    "response_time = df\n",
    "# Generate a range of values for plotting the distributions\n",
    "x = np.linspace(response_time.min(), response_time.max(), 1000)\n",
    "\n",
    "# fit params\n",
    "gamma_params = stats.gamma.fit(response_time)\n",
    "\n",
    "# test fit\n",
    "ks_stat, p_value = stats.kstest(response_time, 'gamma', gamma_params)\n",
    "print(f'{ks_stat=}, {p_value=}')\n",
    "\n",
    "# Log-Normal distribution\n",
    "gamma_pdf = stats.gamma.pdf(x, *gamma_params)\n",
    "\n",
    "df.plot.hist(bins=30, figsize=(3,2), density=True, legend=False)\n",
    "plt.xlabel(\"Response Time (s)\")\n",
    "plt.ylabel(\"Density\")\n",
    "plt.tight_layout()\n",
    "\n",
    "# Overlay the fitted Log-Normal distribution\n",
    "plt.plot(x, gamma_pdf, lw=3)"
   ]
  }
 ],
 "metadata": {
  "kernelspec": {
   "display_name": "venv",
   "language": "python",
   "name": "python3"
  },
  "language_info": {
   "codemirror_mode": {
    "name": "ipython",
    "version": 3
   },
   "file_extension": ".py",
   "mimetype": "text/x-python",
   "name": "python",
   "nbconvert_exporter": "python",
   "pygments_lexer": "ipython3",
   "version": "3.12.2"
  }
 },
 "nbformat": 4,
 "nbformat_minor": 2
}
