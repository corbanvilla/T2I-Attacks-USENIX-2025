{
 "cells": [
  {
   "cell_type": "markdown",
   "metadata": {},
   "source": [
    "# Table 4"
   ]
  },
  {
   "cell_type": "code",
   "execution_count": 1,
   "metadata": {},
   "outputs": [],
   "source": [
    "import sys\n",
    "sys.path.append('..')\n",
    "\n",
    "from db import *\n",
    "from analysis import *"
   ]
  },
  {
   "cell_type": "markdown",
   "metadata": {},
   "source": [
    "### DALL-E-2 v. DALL-E-3"
   ]
  },
  {
   "cell_type": "markdown",
   "metadata": {},
   "source": [
    "---\n",
    "\n",
    "**Query:** DALL-E-2 == \"Accept\" && DALL-E-3 == \"Accept\"\n",
    "\n",
    "---"
   ]
  },
  {
   "cell_type": "code",
   "execution_count": 6,
   "metadata": {},
   "outputs": [
    {
     "data": {
      "text/plain": [
       "47"
      ]
     },
     "execution_count": 6,
     "metadata": {},
     "output_type": "execute_result"
    }
   ],
   "source": [
    "dalle_2_exists = exists().where(\n",
    "    and_(\n",
    "        ImageCreationRequest.translated_prompt_id == TranslatedPrompts.id,\n",
    "        ImageCreationRequest.model == 'dalle-2',\n",
    "        ImageCreationRequest.success == True,\n",
    "    )\n",
    ")\n",
    "dalle_3_exists = exists().where(\n",
    "    and_(\n",
    "        ImageCreationRequest.translated_prompt_id == TranslatedPrompts.id,\n",
    "        ImageCreationRequest.model == 'dalle-3',\n",
    "        ImageCreationRequest.success == True,\n",
    "        ImageCreationRequest.prompt_prefix_id == 1,\n",
    "    )\n",
    ")\n",
    "\n",
    "data = (\n",
    "    session.query(\n",
    "        TranslatedPrompts\n",
    "    ).filter(\n",
    "        dalle_2_exists,\n",
    "        dalle_3_exists,\n",
    "        # TranslatedPrompts.language_id == 4,\n",
    "    )\n",
    ")\n",
    "df = query_to_df(data)\n",
    "len(df)"
   ]
  },
  {
   "cell_type": "markdown",
   "metadata": {},
   "source": [
    "---\n",
    "\n",
    "**Query:** DALL-E-2 == \"Reject\" && DALL-E-3 == \"Accept\"\n",
    "\n",
    "---"
   ]
  },
  {
   "cell_type": "code",
   "execution_count": 7,
   "metadata": {},
   "outputs": [
    {
     "data": {
      "text/plain": [
       "8"
      ]
     },
     "execution_count": 7,
     "metadata": {},
     "output_type": "execute_result"
    }
   ],
   "source": [
    "dalle_2_exists = exists().where(\n",
    "    and_(\n",
    "        ImageCreationRequest.translated_prompt_id == TranslatedPrompts.id,\n",
    "        ImageCreationRequest.model == 'dalle-2',\n",
    "        ImageCreationRequest.success == False,\n",
    "    )\n",
    ")\n",
    "dalle_3_exists = exists().where(\n",
    "    and_(\n",
    "        ImageCreationRequest.translated_prompt_id == TranslatedPrompts.id,\n",
    "        ImageCreationRequest.model == 'dalle-3',\n",
    "        ImageCreationRequest.success == True,\n",
    "        ImageCreationRequest.prompt_prefix_id == 1,\n",
    "    )\n",
    ")\n",
    "\n",
    "data = (\n",
    "    session.query(\n",
    "        TranslatedPrompts\n",
    "    ).filter(\n",
    "        dalle_2_exists,\n",
    "        dalle_3_exists,\n",
    "    )\n",
    ")\n",
    "df = query_to_df(data)\n",
    "len(df)"
   ]
  },
  {
   "cell_type": "markdown",
   "metadata": {},
   "source": [
    "---\n",
    "\n",
    "**Query:** DALL-E-2 == \"Accept\" && DALL-E-3 == \"Reject\"\n",
    "\n",
    "---"
   ]
  },
  {
   "cell_type": "code",
   "execution_count": 8,
   "metadata": {},
   "outputs": [
    {
     "data": {
      "text/plain": [
       "11"
      ]
     },
     "execution_count": 8,
     "metadata": {},
     "output_type": "execute_result"
    }
   ],
   "source": [
    "dalle_2_exists = exists().where(\n",
    "    and_(\n",
    "        ImageCreationRequest.translated_prompt_id == TranslatedPrompts.id,\n",
    "        ImageCreationRequest.model == 'dalle-2',\n",
    "        ImageCreationRequest.success == True,\n",
    "    )\n",
    ")\n",
    "dalle_3_exists = exists().where(\n",
    "    and_(\n",
    "        ImageCreationRequest.translated_prompt_id == TranslatedPrompts.id,\n",
    "        ImageCreationRequest.model == 'dalle-3',\n",
    "        ImageCreationRequest.success == False,\n",
    "        ImageCreationRequest.prompt_prefix_id == 1,\n",
    "    )\n",
    ")\n",
    "\n",
    "data = (\n",
    "    session.query(\n",
    "        TranslatedPrompts\n",
    "    ).filter(\n",
    "        dalle_2_exists,\n",
    "        dalle_3_exists,\n",
    "    )\n",
    ")\n",
    "df = query_to_df(data)\n",
    "len(df)"
   ]
  },
  {
   "cell_type": "markdown",
   "metadata": {},
   "source": [
    "---\n",
    "\n",
    "**Query:** DALL-E-2 == \"Reject\" && DALL-E-3 == \"Reject\"\n",
    "\n",
    "---"
   ]
  },
  {
   "cell_type": "code",
   "execution_count": 9,
   "metadata": {},
   "outputs": [
    {
     "data": {
      "text/plain": [
       "18"
      ]
     },
     "execution_count": 9,
     "metadata": {},
     "output_type": "execute_result"
    }
   ],
   "source": [
    "dalle_2_exists = exists().where(\n",
    "    and_(\n",
    "        ImageCreationRequest.translated_prompt_id == TranslatedPrompts.id,\n",
    "        ImageCreationRequest.model == 'dalle-2',\n",
    "        ImageCreationRequest.success == False,\n",
    "    )\n",
    ")\n",
    "dalle_3_exists = exists().where(\n",
    "    and_(\n",
    "        ImageCreationRequest.translated_prompt_id == TranslatedPrompts.id,\n",
    "        ImageCreationRequest.model == 'dalle-3',\n",
    "        ImageCreationRequest.success == False,\n",
    "        ImageCreationRequest.prompt_prefix_id == 1,\n",
    "    )\n",
    ")\n",
    "\n",
    "data = (\n",
    "    session.query(\n",
    "        TranslatedPrompts\n",
    "    ).filter(\n",
    "        dalle_2_exists,\n",
    "        dalle_3_exists,\n",
    "    )\n",
    ")\n",
    "df = query_to_df(data)\n",
    "len(df)"
   ]
  },
  {
   "cell_type": "markdown",
   "metadata": {},
   "source": [
    "### DALL-E-3 Revised Prompts"
   ]
  },
  {
   "cell_type": "markdown",
   "metadata": {},
   "source": [
    "---\n",
    "\n",
    "**Query:** DALL-E-2: Accepted (Revised Prompt from DALL-E-3)\n",
    "\n",
    "---"
   ]
  },
  {
   "cell_type": "code",
   "execution_count": 21,
   "metadata": {},
   "outputs": [
    {
     "data": {
      "text/plain": [
       "77"
      ]
     },
     "execution_count": 21,
     "metadata": {},
     "output_type": "execute_result"
    }
   ],
   "source": [
    "data = (\n",
    "    session.query(\n",
    "        ImageCreationRequest.id,\n",
    "        ImageCreationRequest.success,\n",
    "        ImageCreationRequest.response_time,\n",
    "    ).join(\n",
    "        Prompts, ImageCreationRequest.prompt_id == Prompts.id\n",
    "    ).filter(\n",
    "        Prompts.dataset == 'revised_top_100',\n",
    "        ImageCreationRequest.model == 'dalle-2',\n",
    "        ImageCreationRequest.success == True,\n",
    "    )\n",
    ")\n",
    "df = query_to_df(data)\n",
    "len(df)"
   ]
  },
  {
   "cell_type": "markdown",
   "metadata": {},
   "source": [
    "---\n",
    "\n",
    "**Query:** DALL-E-2: Rejected (Revised Prompt from DALL-E-3)\n",
    "\n",
    "---"
   ]
  },
  {
   "cell_type": "code",
   "execution_count": 22,
   "metadata": {},
   "outputs": [
    {
     "data": {
      "text/plain": [
       "23"
      ]
     },
     "execution_count": 22,
     "metadata": {},
     "output_type": "execute_result"
    }
   ],
   "source": [
    "data = (\n",
    "    session.query(\n",
    "        ImageCreationRequest.id,\n",
    "        ImageCreationRequest.success,\n",
    "        ImageCreationRequest.response_time,\n",
    "    ).join(\n",
    "        Prompts, ImageCreationRequest.prompt_id == Prompts.id\n",
    "    ).filter(\n",
    "        Prompts.dataset == 'revised_top_100',\n",
    "        ImageCreationRequest.model == 'dalle-2',\n",
    "        ImageCreationRequest.success == False,\n",
    "    )\n",
    ")\n",
    "df = query_to_df(data)\n",
    "len(df)"
   ]
  }
 ],
 "metadata": {
  "kernelspec": {
   "display_name": "venv",
   "language": "python",
   "name": "python3"
  },
  "language_info": {
   "codemirror_mode": {
    "name": "ipython",
    "version": 3
   },
   "file_extension": ".py",
   "mimetype": "text/x-python",
   "name": "python",
   "nbconvert_exporter": "python",
   "pygments_lexer": "ipython3",
   "version": "3.12.2"
  }
 },
 "nbformat": 4,
 "nbformat_minor": 2
}
