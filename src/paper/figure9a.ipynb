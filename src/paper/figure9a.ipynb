{
 "cells": [
  {
   "cell_type": "markdown",
   "metadata": {},
   "source": [
    "# Statistical Distribution Modelling: DALL-E-2"
   ]
  },
  {
   "cell_type": "code",
   "execution_count": 1,
   "metadata": {},
   "outputs": [],
   "source": [
    "import sys\n",
    "sys.path.append('../')\n",
    "\n",
    "from db import *\n",
    "from analysis import *"
   ]
  },
  {
   "cell_type": "code",
   "execution_count": 2,
   "metadata": {},
   "outputs": [
    {
     "name": "stdout",
     "output_type": "stream",
     "text": [
      "79\n"
     ]
    },
    {
     "data": {
      "text/html": [
       "<div>\n",
       "<style scoped>\n",
       "    .dataframe tbody tr th:only-of-type {\n",
       "        vertical-align: middle;\n",
       "    }\n",
       "\n",
       "    .dataframe tbody tr th {\n",
       "        vertical-align: top;\n",
       "    }\n",
       "\n",
       "    .dataframe thead th {\n",
       "        text-align: right;\n",
       "    }\n",
       "</style>\n",
       "<table border=\"1\" class=\"dataframe\">\n",
       "  <thead>\n",
       "    <tr style=\"text-align: right;\">\n",
       "      <th></th>\n",
       "      <th>response_time</th>\n",
       "    </tr>\n",
       "  </thead>\n",
       "  <tbody>\n",
       "    <tr>\n",
       "      <th>0</th>\n",
       "      <td>9.496966</td>\n",
       "    </tr>\n",
       "    <tr>\n",
       "      <th>1</th>\n",
       "      <td>9.538098</td>\n",
       "    </tr>\n",
       "    <tr>\n",
       "      <th>2</th>\n",
       "      <td>9.936604</td>\n",
       "    </tr>\n",
       "    <tr>\n",
       "      <th>3</th>\n",
       "      <td>10.238569</td>\n",
       "    </tr>\n",
       "    <tr>\n",
       "      <th>4</th>\n",
       "      <td>10.100267</td>\n",
       "    </tr>\n",
       "  </tbody>\n",
       "</table>\n",
       "</div>"
      ],
      "text/plain": [
       "   response_time\n",
       "0       9.496966\n",
       "1       9.538098\n",
       "2       9.936604\n",
       "3      10.238569\n",
       "4      10.100267"
      ]
     },
     "execution_count": 2,
     "metadata": {},
     "output_type": "execute_result"
    }
   ],
   "source": [
    "data = (\n",
    "    session.query(\n",
    "        # ImageCreationRequest\n",
    "        ImageCreationRequest.response_time,\n",
    "    ).filter(\n",
    "        ImageCreationRequest.model == 'dalle-2',\n",
    "        ImageCreationRequest.success == True,\n",
    "        ImageCreationRequest.timing_valid == True,\n",
    "    )\n",
    ")\n",
    "df = query_to_df(data)\n",
    "print(len(df))\n",
    "df.head()"
   ]
  },
  {
   "cell_type": "markdown",
   "metadata": {},
   "source": [
    "# Plot"
   ]
  },
  {
   "cell_type": "code",
   "execution_count": 3,
   "metadata": {},
   "outputs": [
    {
     "name": "stdout",
     "output_type": "stream",
     "text": [
      "ks_stat=array([0.06292819]), p_value=array([0.89355822])\n"
     ]
    },
    {
     "data": {
      "text/plain": [
       "[<matplotlib.lines.Line2D at 0x7e12e27e7fb0>]"
      ]
     },
     "execution_count": 3,
     "metadata": {},
     "output_type": "execute_result"
    },
    {
     "data": {
      "image/png": "[encoded data removed]",
      "text/plain": [
       "<Figure size 300x200 with 1 Axes>"
      ]
     },
     "metadata": {},
     "output_type": "display_data"
    }
   ],
   "source": [
    "import scipy.stats as stats\n",
    "import numpy as np\n",
    "\n",
    "# sns.set_theme(context=\"paper\", font='Times New Roman', font_scale=1.5, style='white')\n",
    "\n",
    "response_time = df\n",
    "# Generate a range of values for plotting the distributions\n",
    "x = np.linspace(response_time.min(), response_time.max(), 1000)\n",
    "\n",
    "# fit params\n",
    "lognorm_params = stats.lognorm.fit(response_time)\n",
    "\n",
    "# test fit\n",
    "ks_stat, p_value = stats.kstest(response_time, 'lognorm', lognorm_params)\n",
    "print(f'{ks_stat=}, {p_value=}')\n",
    "\n",
    "# Log-Normal distribution\n",
    "lognorm_pdf = stats.lognorm.pdf(x, *lognorm_params)\n",
    "\n",
    "df.plot.hist(bins=30, figsize=(3,2), density=True, legend=False)\n",
    "plt.xlabel(\"Response Time (s)\")\n",
    "plt.ylabel(\"Density\")\n",
    "# plt.legend([\"Response Time\"])\n",
    "plt.tight_layout()\n",
    "\n",
    "# Overlay the fitted Log-Normal distribution\n",
    "plt.plot(x, lognorm_pdf, label='Log-Normal Distribution (fitted)', lw=3)\n",
    "\n",
    "# plt.savefig('dalle-2.pdf', bbox_inches='tight')"
   ]
  }
 ],
 "metadata": {
  "kernelspec": {
   "display_name": "venv",
   "language": "python",
   "name": "python3"
  },
  "language_info": {
   "codemirror_mode": {
    "name": "ipython",
    "version": 3
   },
   "file_extension": ".py",
   "mimetype": "text/x-python",
   "name": "python",
   "nbconvert_exporter": "python",
   "pygments_lexer": "ipython3",
   "version": "3.12.2"
  }
 },
 "nbformat": 4,
 "nbformat_minor": 2
}
