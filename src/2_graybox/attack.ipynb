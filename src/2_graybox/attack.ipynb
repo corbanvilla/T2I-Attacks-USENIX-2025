{
 "cells": [
  {
   "cell_type": "markdown",
   "metadata": {},
   "source": [
    "# Graybox Attack Analysis\n",
    "Analysis of adversarial prompts sent to DALL-E-3/ChatGPT."
   ]
  },
  {
   "cell_type": "code",
   "execution_count": 16,
   "metadata": {},
   "outputs": [],
   "source": [
    "import pandas as pd\n",
    "import seaborn as sns\n",
    "import matplotlib.pyplot as plt\n",
    "import numpy as np\n",
    "from information_theory import remove_outliers_iqr\n",
    "import numpy as np\n",
    "from sklearn.tree import DecisionTreeClassifier\n",
    "from sklearn import tree\n",
    "\n",
    "sns.set_theme()\n",
    "palette = sns.color_palette()\n",
    "plt.rcParams[\"font.family\"] = \"serif\"\n",
    "plt.rcParams[\"font.serif\"] = [\"Times New Roman\"] + plt.rcParams[\"font.serif\"]\n",
    "sns.set_theme(context=\"paper\", font_scale=1.5)"
   ]
  },
  {
   "cell_type": "code",
   "execution_count": 17,
   "metadata": {},
   "outputs": [],
   "source": [
    "df = (\n",
    "    pd.read_csv('../../datasets/graybox/graybox_attack_stats.csv')\n",
    ")\n",
    "df_orig = df.copy()"
   ]
  },
  {
   "cell_type": "markdown",
   "metadata": {},
   "source": [
    "# Attack Analysis"
   ]
  },
  {
   "cell_type": "code",
   "execution_count": 18,
   "metadata": {},
   "outputs": [
    {
     "data": {
      "text/plain": [
       "response_type\n",
       "chatgpt-reject          39\n",
       "dalle-issue             24\n",
       "success                 23\n",
       "dalle-content-policy    19\n",
       "dalle-rate-limit         4\n",
       "Name: count, dtype: int64"
      ]
     },
     "execution_count": 18,
     "metadata": {},
     "output_type": "execute_result"
    }
   ],
   "source": [
    "df_orig['response_type'].value_counts()"
   ]
  },
  {
   "cell_type": "code",
   "execution_count": 15,
   "metadata": {},
   "outputs": [
    {
     "name": "stdout",
     "output_type": "stream",
     "text": [
      "109\n",
      "Removed 1 outliers from column 'total_time'\n",
      "Removed 2 outliers from column 'total_time'\n",
      "issue generation=20 policy violation=17 rate limit=4\n",
      "2.694286525249481\n"
     ]
    },
    {
     "name": "stderr",
     "output_type": "stream",
     "text": [
      "/tmp/ipykernel_831239/3784706501.py:11: UserWarning: Boolean Series key will be reindexed to match DataFrame index.\n",
      "  df\n",
      "/tmp/ipykernel_831239/3784706501.py:18: UserWarning: Boolean Series key will be reindexed to match DataFrame index.\n",
      "  df\n",
      "/tmp/ipykernel_831239/3784706501.py:25: UserWarning: Boolean Series key will be reindexed to match DataFrame index.\n",
      "  df\n"
     ]
    },
    {
     "data": {
      "image/png": "[encoded data removed]",
      "text/plain": [
       "<Figure size 500x300 with 1 Axes>"
      ]
     },
     "metadata": {},
     "output_type": "display_data"
    }
   ],
   "source": [
    "print(len(df))\n",
    "\n",
    "stats = [\n",
    "    \"dalle_tool_time\",\n",
    "    \"total_time\",\n",
    "]\n",
    "stat = stats[1]\n",
    "model = \"gpt-4o\"\n",
    "\n",
    "rate_limit = (\n",
    "    df\n",
    "    [df[\"response_type\"] == \"dalle-rate-limit\"]\n",
    "    [df[\"model_slug\"] == model]\n",
    "    # .pipe(remove_outliers_iqr, stat)\n",
    "    [stat]\n",
    ")\n",
    "issues = (\n",
    "    df\n",
    "    [df[\"response_type\"] == \"dalle-issue\"]\n",
    "    [df[\"model_slug\"] == model]\n",
    "    .pipe(remove_outliers_iqr, stat)\n",
    "    [stat]\n",
    ")\n",
    "policy = (\n",
    "    df\n",
    "    [df[\"response_type\"] == \"dalle-content-policy\"]\n",
    "    [df[\"model_slug\"] == model]\n",
    "    .pipe(remove_outliers_iqr, stat)\n",
    "    [stat]\n",
    ")\n",
    "\n",
    "print(f'issue generation={len(issues)} policy violation={len(policy)} rate limit={len(rate_limit)}')\n",
    "print(rate_limit.mean())\n",
    "# print(issues.describe())\n",
    "# print(policy.describe())\n",
    "\n",
    "fig, ax = plt.subplots(figsize=(5,3))\n",
    "\n",
    "fixed_range = (0, 15)\n",
    "ax.hist(issues, bins=30, label=\"Dalle Issue\", color=palette[0], range=fixed_range)\n",
    "ax.hist(policy, bins=30, label=\"Content Policy\", color=palette[1], range=fixed_range)\n",
    "ax.hist(rate_limit, bins=30, label=\"Rate Limit\", color=palette[3], range=fixed_range)\n",
    "ax.axvline(x=4.8, color=palette[2], linestyle=\"--\", linewidth=2)\n",
    "\n",
    "ax.set_xlabel(\"Time (s)\")\n",
    "ax.set_ylabel(\"Frequency\")\n",
    "\n",
    "ax.legend()\n",
    "\n",
    "plt.show()"
   ]
  }
 ],
 "metadata": {
  "kernelspec": {
   "display_name": "venv",
   "language": "python",
   "name": "python3"
  },
  "language_info": {
   "codemirror_mode": {
    "name": "ipython",
    "version": 3
   },
   "file_extension": ".py",
   "mimetype": "text/x-python",
   "name": "python",
   "nbconvert_exporter": "python",
   "pygments_lexer": "ipython3",
   "version": "3.12.2"
  }
 },
 "nbformat": 4,
 "nbformat_minor": 2
}
