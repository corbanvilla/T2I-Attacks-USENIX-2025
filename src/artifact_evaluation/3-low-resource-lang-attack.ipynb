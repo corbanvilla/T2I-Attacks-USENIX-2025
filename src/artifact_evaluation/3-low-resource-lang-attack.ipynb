{
 "cells": [
  {
   "cell_type": "code",
   "execution_count": null,
   "metadata": {},
   "outputs": [],
   "source": [
    "import sys\n",
    "\n",
    "sys.path.append('..')\n",
    "\n",
    "from db import *\n",
    "from analysis import *\n",
    "from blackbox.helpers import *"
   ]
  },
  {
   "cell_type": "markdown",
   "metadata": {},
   "source": [
    "# DALL-E-3 Low-Resource Language Attack"
   ]
  },
  {
   "cell_type": "code",
   "execution_count": null,
   "metadata": {},
   "outputs": [],
   "source": [
    "data = (\n",
    "    session.query(\n",
    "        Languages.name.label(\"Language\"),\n",
    "        Languages.common_crawl_pages.label(\"Common Crawl Pages\"),\n",
    "        func.count(ImageCreationRequest.id).label(\"Total Requests\"),\n",
    "        func.count(case((ImageCreationRequest.success == True, 1))).label(\"Success Count\"),\n",
    "        func.count(case((ImageCreationRequest.success == False, 1))).label(\"Failure Count\"),\n",
    "        func.coalesce(\n",
    "            func.count(case((ImageCreationRequest.success == True, 1))) * 100.0 /\n",
    "            func.count(ImageCreationRequest.id), 0\n",
    "        ).label(\"Acceptance Rate (%)\"),\n",
    "    )\n",
    "    .join(TranslatedPrompts, ImageCreationRequest.translated_prompt_id == TranslatedPrompts.id)\n",
    "    .join(Languages, TranslatedPrompts.language_id == Languages.id)\n",
    "    .join(Prompts, TranslatedPrompts.prompt_id == Prompts.id)\n",
    "    .join(PromptPrefixStyles, ImageCreationRequest.prompt_prefix_id == PromptPrefixStyles.id)\n",
    "    .filter(\n",
    "        ImageCreationRequest.model == 'dalle-3',\n",
    "        Prompts.dataset == 'baseline'\n",
    "    )\n",
    "    .group_by(Languages.id, Languages.name_short, Languages.common_crawl_pages)\n",
    "    .order_by(Languages.common_crawl_pages.desc())\n",
    ")\n",
    "\n",
    "df = query_to_df(data)"
   ]
  },
  {
   "cell_type": "markdown",
   "metadata": {},
   "source": [
    "# Results\n",
    "\n",
    "**Description:** This experiment demonstrates that low-resource languages can be used as an effective mechanism to bypass DALL·E safety filters (§6.1).\n",
    "\n",
    "**Dataset:** This experiment uses 5 prompts in 5 languages (English, Nepali, Sinhala, Lao, Hawaiian) for a total of 25 requests to DALL·E 3.\n",
    "\n",
    "**Success Criteria:** Languages with fewer pages in the Common Crawl dataset often demonstrating higher prompt acceptance rates."
   ]
  },
  {
   "cell_type": "code",
   "execution_count": null,
   "metadata": {},
   "outputs": [],
   "source": [
    "df"
   ]
  }
 ],
 "metadata": {
  "kernelspec": {
   "display_name": "venv",
   "language": "python",
   "name": "python3"
  },
  "language_info": {
   "codemirror_mode": {
    "name": "ipython",
    "version": 3
   },
   "file_extension": ".py",
   "mimetype": "text/x-python",
   "name": "python",
   "nbconvert_exporter": "python",
   "pygments_lexer": "ipython3",
   "version": "3.12.2"
  }
 },
 "nbformat": 4,
 "nbformat_minor": 4
}
