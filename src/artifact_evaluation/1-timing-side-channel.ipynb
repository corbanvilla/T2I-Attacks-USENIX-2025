{
 "cells": [
  {
   "cell_type": "code",
   "execution_count": null,
   "metadata": {},
   "outputs": [],
   "source": [
    "import sys\n",
    "\n",
    "sys.path.append('..')\n",
    "\n",
    "from db import *\n",
    "from analysis import *\n",
    "from blackbox.helpers import *"
   ]
  },
  {
   "cell_type": "markdown",
   "metadata": {
    "vscode": {
     "languageId": "plaintext"
    }
   },
   "source": [
    "# DALL-E-2 Timing Side-Channel"
   ]
  },
  {
   "cell_type": "code",
   "execution_count": null,
   "metadata": {},
   "outputs": [],
   "source": [
    "median_response_time = func.percentile_cont(0.5).within_group(\n",
    "    ImageCreationRequest.response_time.asc()\n",
    ").label('median_response_time')\n",
    "\n",
    "data = (\n",
    "    session.query(\n",
    "        Prompts.id.label(\"Prompt ID\"),\n",
    "        median_response_time.label(\"Median Response Time\"),\n",
    "        Prompts.dataset.label(\"Dataset\"),\n",
    "        sql_encode(Prompts.prompt_hash, 'hex').label('Prompt Hash'),\n",
    "    ).join(\n",
    "        Prompts, ImageCreationRequest.prompt_id == Prompts.id\n",
    "    ).filter(\n",
    "        or_(\n",
    "            Prompts.dataset == 'blocklist',\n",
    "            Prompts.dataset == 'blocklist_mutate',\n",
    "        )\n",
    "    ).group_by(\n",
    "        ImageCreationRequest.prompt_id, Prompts.dataset, Prompts.id,\n",
    "        sql_encode(Prompts.prompt_hash, 'hex').label('prompt_hash'),\n",
    "    )\n",
    ")\n",
    "\n",
    "df = query_to_df(data)\n",
    "\n",
    "blocklist = df[df['Dataset'] == 'blocklist']\n",
    "blocklist_mutate = df[df['Dataset'] == 'blocklist_mutate']\n",
    "\n",
    "df.head()"
   ]
  },
  {
   "cell_type": "code",
   "execution_count": null,
   "metadata": {},
   "outputs": [],
   "source": [
    "fig, ax = plt.subplots(figsize=(5, 3))\n",
    "\n",
    "plt_range = (0, df['Median Response Time'].max() *1.25)\n",
    "\n",
    "ax.hist(blocklist['Median Response Time'], range=plt_range, color=palette[0], label=\"Original Word\", bins=30)\n",
    "ax.hist(blocklist_mutate['Median Response Time'], range=plt_range, color=palette[1], label=\"Mutated Words\", bins=30)\n",
    "\n",
    "ax.legend()\n",
    "\n",
    "ax.set_ylabel('Frequency')\n",
    "ax.set_xlabel('Median Response Time (s)')\n",
    "\n",
    "plt.tight_layout()\n",
    "plt.show()\n"
   ]
  },
  {
   "cell_type": "code",
   "execution_count": null,
   "metadata": {},
   "outputs": [],
   "source": [
    "# Perform a one-tailed t-test (e.g., testing if blocklist_mutate has higher response times than blocklist)\n",
    "b1 = blocklist[\"Median Response Time\"]\n",
    "b2 = blocklist_mutate[\"Median Response Time\"]\n",
    "\n",
    "t_stat, p_value = stats.ttest_ind(b1, b2, equal_var=False, alternative='two-sided')\n",
    "\n",
    "results = pd.DataFrame({\n",
    "    'Metric': ['t-statistic', 'p-value', 'Statistically Significant (p < 0.05)'],\n",
    "    'Value': [round(t_stat, 4), round(p_value, 4), p_value < 0.05]\n",
    "})"
   ]
  },
  {
   "cell_type": "markdown",
   "metadata": {},
   "source": [
    "# Results\n",
    "\n",
    "**Description:** This experiment demonstrates the effectiveness of our DALL·E 2 blocklist probing attack, which allows an attacker to detect independent filter systems by their respective response times (§5.1). \n",
    "\n",
    "**Dataset:** This experiment uses 5 pairs of blocklisted and mutated words, repeated 5 times each, for a total of 50 requests to DALL·E 2.\n",
    "\n",
    "**Success Criteria:** The experiment demonstrates the statistical significance between rejection timings."
   ]
  },
  {
   "cell_type": "code",
   "execution_count": null,
   "metadata": {},
   "outputs": [],
   "source": [
    "display(results)"
   ]
  }
 ],
 "metadata": {
  "kernelspec": {
   "display_name": "venv",
   "language": "python",
   "name": "python3"
  },
  "language_info": {
   "codemirror_mode": {
    "name": "ipython",
    "version": 3
   },
   "file_extension": ".py",
   "mimetype": "text/x-python",
   "name": "python",
   "nbconvert_exporter": "python",
   "pygments_lexer": "ipython3",
   "version": "3.12.2"
  }
 },
 "nbformat": 4,
 "nbformat_minor": 2
}
